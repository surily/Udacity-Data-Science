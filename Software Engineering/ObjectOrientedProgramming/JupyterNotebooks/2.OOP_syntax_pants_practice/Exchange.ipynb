{
 "cells": [
  {
   "cell_type": "code",
   "execution_count": 10,
   "metadata": {},
   "outputs": [],
   "source": [
    "class Stock():\n",
    "    def __init__(self, stock_name, stock_price, stock_type, stock_amount):\n",
    "        '''Initilize stock info\n",
    "        \n",
    "        Attributes: \n",
    "            stock_name\n",
    "            stock_price, \n",
    "            stock_type, \n",
    "            stock_amount'''\n",
    "        \n",
    "        self.name = stock_name\n",
    "        self.amount = stock_amount\n",
    "        self.price = stock_price\n",
    "        self.type = stock_type\n",
    "    \n",
    "   \n",
    "    def __str__(self):\n",
    "        \"\"\"Show the stock info\n",
    "        \n",
    "        Args: \n",
    "            None\n",
    "        \n",
    "        Returns: \n",
    "            string : stock's name, type, amount and price\n",
    "    \n",
    "        \"\"\"\n",
    "        return ('Stock name: %s, Type: %s, Amount: %s, Price: %s' %(\n",
    "                self.name, self.type, self.amount, self.price))\n",
    "    \n",
    "    # current value of one stock\n",
    "    def current_value(self):\n",
    "        return  self.price * self.amount if self.type == 'B' else (-1) * self.price * self.amount\n",
    "        "
   ]
  },
  {
   "cell_type": "code",
   "execution_count": 80,
   "metadata": {},
   "outputs": [],
   "source": [
    "class Order():\n",
    "    def __init__(self, order_id, stock, user_id):\n",
    "        '''order info'''\n",
    "        self.order_id = order_id\n",
    "        self.stock = stock\n",
    "        self.user_id = user_id\n",
    "    \n",
    "    # show the order info \n",
    "    def __str__(self):\n",
    "        return ('order id: %s, %s, user_id: %s' % (\n",
    "                self.order_id, self.stock,self.user_id))\n",
    "    \n",
    "    # current value of one order\n",
    "    def current_summary(self):\n",
    "        current_value = self.stock.current_value()\n",
    "        print('order id: {}, current_summary: {}'.format(self.order_id, current_value))\n",
    "        return current_value\n",
    "    \n",
    "    # user info\n",
    "    def user(self):\n",
    "        return self.user_id\n",
    "    \n",
    "    \n",
    "    def order_user_map(self):\n",
    "        order_user_dict = {self.user_id: self.order_id}\n",
    "    "
   ]
  },
  {
   "cell_type": "code",
   "execution_count": 81,
   "metadata": {},
   "outputs": [],
   "source": [
    "class Exchange():\n",
    "    def __init__(self):\n",
    "        self.orders = []\n",
    "        \n",
    "        \n",
    "#     def add(self, stock):\n",
    "        \n",
    "#         if stock in self.stocks_list:\n",
    "#             pass\n",
    "#         else:\n",
    "#             self.stocks_list.append(stock)\n",
    "    \n",
    "    # create an order\n",
    "    def create(self, order):\n",
    "        if order in self.orders:\n",
    "            pass\n",
    "        else:\n",
    "            self.orders.append(order)\n",
    "    \n",
    "    # cancel an order\n",
    "    def cancel(self, order):\n",
    "        if order in self.orders:\n",
    "            self.orders.remove(order)\n",
    "        else:\n",
    "            print('There is no existing order in the exchange')\n",
    "    \n",
    "    # check all orders info in the exchange \n",
    "    def current_market_summary(self):\n",
    "        for order in self.orders:\n",
    "            print(order)\n",
    "    \n",
    "    # amount of all orders in the exchange\n",
    "    def total_portfolio(self):\n",
    "        current_portfolio = 0\n",
    "        for order in self.orders:\n",
    "            order_value = order.current_summary()\n",
    "            current_portfolio += order_value\n",
    "        return current_portfolio\n",
    "    \n",
    "    # all orders info and total amount for one specific user_id \n",
    "    def search(self, user_id):\n",
    "        user_summary = 0\n",
    "        for order in self.orders:\n",
    "            if user_id in order.user():\n",
    "                user_summary += order.current_summary()\n",
    "        if user_summary == 0:\n",
    "            return 'Not Found'\n",
    "        \n",
    "        return 'User id: {}. Summary for this user:{} '.format(user_id, user_summary)\n",
    "            \n",
    "        "
   ]
  },
  {
   "cell_type": "code",
   "execution_count": null,
   "metadata": {},
   "outputs": [],
   "source": []
  },
  {
   "cell_type": "code",
   "execution_count": 82,
   "metadata": {},
   "outputs": [],
   "source": [
    "MSFT = Stock('MSFT',140,'B',10)\n",
    "GOOG = Stock('GOOG',3000,'B',20)\n",
    "APPL = Stock('APPL',300,'B',15)\n",
    "AMAZ = Stock('AMAZ',3100,'S',100)"
   ]
  },
  {
   "cell_type": "code",
   "execution_count": 83,
   "metadata": {},
   "outputs": [],
   "source": [
    "order_1 = Order('01',MSFT, 'haha01')"
   ]
  },
  {
   "cell_type": "code",
   "execution_count": 84,
   "metadata": {},
   "outputs": [
    {
     "name": "stdout",
     "output_type": "stream",
     "text": [
      "order id: 01, current_summary: 1400\n"
     ]
    },
    {
     "data": {
      "text/plain": [
       "1400"
      ]
     },
     "execution_count": 84,
     "metadata": {},
     "output_type": "execute_result"
    }
   ],
   "source": [
    "order_1.current_summary()"
   ]
  },
  {
   "cell_type": "code",
   "execution_count": 85,
   "metadata": {},
   "outputs": [],
   "source": [
    "order_2 = Order('10',GOOG, 'haha05')"
   ]
  },
  {
   "cell_type": "code",
   "execution_count": 86,
   "metadata": {},
   "outputs": [],
   "source": [
    "order_3 = Order('8',APPL, 'haha05')"
   ]
  },
  {
   "cell_type": "code",
   "execution_count": 87,
   "metadata": {
    "scrolled": true
   },
   "outputs": [
    {
     "name": "stdout",
     "output_type": "stream",
     "text": [
      "order id: 01, Stock name: MSFT, Type: B, Amount: 10, Price: 140, user_id: haha01\n"
     ]
    }
   ],
   "source": [
    "print(order_1)"
   ]
  },
  {
   "cell_type": "code",
   "execution_count": 88,
   "metadata": {},
   "outputs": [],
   "source": [
    "exchange_1 = Exchange()"
   ]
  },
  {
   "cell_type": "code",
   "execution_count": 89,
   "metadata": {},
   "outputs": [],
   "source": [
    "exchange_1.create(order_1)\n",
    "exchange_1.create(order_2)\n"
   ]
  },
  {
   "cell_type": "code",
   "execution_count": 90,
   "metadata": {},
   "outputs": [
    {
     "name": "stdout",
     "output_type": "stream",
     "text": [
      "order id: 01, Stock name: MSFT, Type: B, Amount: 10, Price: 140, user_id: haha01\n",
      "order id: 10, Stock name: GOOG, Type: B, Amount: 20, Price: 3000, user_id: haha05\n"
     ]
    }
   ],
   "source": [
    "exchange_1.current_market_summary()"
   ]
  },
  {
   "cell_type": "code",
   "execution_count": 91,
   "metadata": {},
   "outputs": [],
   "source": [
    "exchange_1.create(order_3)"
   ]
  },
  {
   "cell_type": "code",
   "execution_count": 92,
   "metadata": {},
   "outputs": [
    {
     "name": "stdout",
     "output_type": "stream",
     "text": [
      "order id: 10, current_summary: 60000\n",
      "order id: 8, current_summary: 4500\n"
     ]
    },
    {
     "data": {
      "text/plain": [
       "'User id: haha05. Summary for this user:64500 '"
      ]
     },
     "execution_count": 92,
     "metadata": {},
     "output_type": "execute_result"
    }
   ],
   "source": [
    "exchange_1.search('haha05')"
   ]
  },
  {
   "cell_type": "code",
   "execution_count": null,
   "metadata": {},
   "outputs": [],
   "source": []
  },
  {
   "cell_type": "code",
   "execution_count": 50,
   "metadata": {},
   "outputs": [],
   "source": [
    "exchange_1.cancel(order_2)"
   ]
  },
  {
   "cell_type": "code",
   "execution_count": 51,
   "metadata": {},
   "outputs": [
    {
     "name": "stdout",
     "output_type": "stream",
     "text": [
      "order id: 01, Stock name: MSFT, Type: B, Amount: 10, Price: 140, user_id: haha01\n",
      "order id: 8, Stock name: APPL, Type: B, Amount: 15, Price: 300, user_id: haha05\n"
     ]
    }
   ],
   "source": [
    "exchange_1.current_market_summary()"
   ]
  },
  {
   "cell_type": "code",
   "execution_count": 104,
   "metadata": {},
   "outputs": [],
   "source": [
    "order_user_dict = {'haha01': {'order id': '01', 'Stock name': 'MSFT', 'Type': 'B', 'Amount': '10', 'Price': '140'},\n",
    "                   'haha01': {'order id': '02', 'Stock name': 'MSFT', 'Type': 'B', 'Amount': '20', 'Price': '140'}}\n"
   ]
  },
  {
   "cell_type": "code",
   "execution_count": 105,
   "metadata": {},
   "outputs": [
    {
     "data": {
      "text/plain": [
       "{'haha01': {'order id': '02',\n",
       "  'Stock name': 'MSFT',\n",
       "  'Type': 'B',\n",
       "  'Amount': '20',\n",
       "  'Price': '140'}}"
      ]
     },
     "execution_count": 105,
     "metadata": {},
     "output_type": "execute_result"
    }
   ],
   "source": [
    "order_user_dict"
   ]
  },
  {
   "cell_type": "code",
   "execution_count": 98,
   "metadata": {},
   "outputs": [
    {
     "data": {
      "text/plain": [
       "[{'haha01': '02'}, {'haha02': '05'}]"
      ]
     },
     "execution_count": 98,
     "metadata": {},
     "output_type": "execute_result"
    }
   ],
   "source": [
    "exchange_dict"
   ]
  },
  {
   "cell_type": "code",
   "execution_count": null,
   "metadata": {},
   "outputs": [],
   "source": []
  }
 ],
 "metadata": {
  "kernelspec": {
   "display_name": "Python 3",
   "language": "python",
   "name": "python3"
  },
  "language_info": {
   "codemirror_mode": {
    "name": "ipython",
    "version": 3
   },
   "file_extension": ".py",
   "mimetype": "text/x-python",
   "name": "python",
   "nbconvert_exporter": "python",
   "pygments_lexer": "ipython3",
   "version": "3.7.6"
  }
 },
 "nbformat": 4,
 "nbformat_minor": 4
}
