{
 "cells": [
  {
   "cell_type": "markdown",
   "metadata": {},
   "source": [
    "# Machine Learning Workflow\n",
    "Complete the steps below to complete the machine learning workflow for this classifier."
   ]
  },
  {
   "cell_type": "code",
   "execution_count": 1,
   "metadata": {},
   "outputs": [
    {
     "name": "stderr",
     "output_type": "stream",
     "text": [
      "[nltk_data] Downloading package punkt to /Users/huilisi/nltk_data...\n",
      "[nltk_data]   Package punkt is already up-to-date!\n",
      "[nltk_data] Downloading package wordnet to /Users/huilisi/nltk_data...\n",
      "[nltk_data]   Package wordnet is already up-to-date!\n"
     ]
    },
    {
     "data": {
      "text/plain": [
       "True"
      ]
     },
     "execution_count": 1,
     "metadata": {},
     "output_type": "execute_result"
    }
   ],
   "source": [
    "import nltk\n",
    "nltk.download(['punkt', 'wordnet'])"
   ]
  },
  {
   "cell_type": "code",
   "execution_count": 2,
   "metadata": {},
   "outputs": [],
   "source": [
    "import re\n",
    "import pandas as pd\n",
    "from nltk.tokenize import word_tokenize\n",
    "from nltk.stem import WordNetLemmatizer\n",
    "from sklearn.model_selection import train_test_split"
   ]
  },
  {
   "cell_type": "code",
   "execution_count": 3,
   "metadata": {},
   "outputs": [],
   "source": [
    "url_regex = 'http[s]?://(?:[a-zA-Z]|[0-9]|[$-_@.&+]|[!*\\(\\),]|(?:%[0-9a-fA-F][0-9a-fA-F]))+'\n",
    "\n",
    "def load_data():\n",
    "    df = pd.read_csv('corporate_messaging.csv', encoding='latin-1')\n",
    "    df = df[(df[\"category:confidence\"] == 1) & (df['category'] != 'Exclude')]\n",
    "    X = df.text.values\n",
    "    y = df.category.values\n",
    "    return X, y\n",
    "\n",
    "def tokenize(text):\n",
    "    detected_urls = re.findall(url_regex, text)\n",
    "    for url in detected_urls:\n",
    "        text = text.replace(url, \"urlplaceholder\")\n",
    "\n",
    "    tokens = word_tokenize(text)\n",
    "    lemmatizer = WordNetLemmatizer()\n",
    "\n",
    "    clean_tokens = []\n",
    "    for tok in tokens:\n",
    "        clean_tok = lemmatizer.lemmatize(tok).lower().strip()\n",
    "        clean_tokens.append(clean_tok)\n",
    "\n",
    "    return clean_tokens"
   ]
  },
  {
   "cell_type": "markdown",
   "metadata": {},
   "source": [
    "### Step 1: Load data and perform a train test split"
   ]
  },
  {
   "cell_type": "code",
   "execution_count": 4,
   "metadata": {},
   "outputs": [],
   "source": [
    "# load data\n",
    "X, y = load_data()\n",
    "\n",
    "# perform train test split\n",
    "X_train, X_test, y_train, y_test = train_test_split(X, y)"
   ]
  },
  {
   "cell_type": "markdown",
   "metadata": {},
   "source": [
    "### Step 2: Train classifier\n",
    "* Fit and transform the training data with `CountVectorizer`. Hint: You can include your tokenize function in the `tokenizer` keyword argument!\n",
    "* Fit and transform these word counts with `TfidfTransformer`.\n",
    "* Fit a classifier to these tfidf values."
   ]
  },
  {
   "cell_type": "code",
   "execution_count": 8,
   "metadata": {},
   "outputs": [],
   "source": [
    "from sklearn.feature_extraction.text import CountVectorizer, TfidfTransformer\n",
    "from sklearn.naive_bayes import MultinomialNB"
   ]
  },
  {
   "cell_type": "code",
   "execution_count": 33,
   "metadata": {
    "scrolled": true
   },
   "outputs": [],
   "source": [
    "# Instantiate transformers and classifier\n",
    "vect = CountVectorizer(tokenizer=tokenize)\n",
    "tfidf = TfidfTransformer()\n",
    "clf = MultinomialNB()\n",
    "\n",
    "# Fit and/or transform each to the data\n",
    "\n",
    "X_train_vect = vect.fit_transform(X_train)\n",
    "X_train_tfidf = tfidf.fit(X_train_vect)\n",
    "X_train_new = X_train_tfidf.transform(X_train_vect)\n",
    "\n",
    "clf.fit(X_train_new, y_train)"
   ]
  },
  {
   "cell_type": "markdown",
   "metadata": {},
   "source": [
    "### Step 3: Predict on test data\n",
    "* Transform (no fitting) the test data with the same CountVectorizer and TfidfTransformer\n",
    "* Predict labels on these tfidf values."
   ]
  },
  {
   "cell_type": "code",
   "execution_count": 36,
   "metadata": {},
   "outputs": [],
   "source": [
    "# Transform test data\n",
    "X_test_vect = vect.transform(X_test)\n",
    "X_test_new = tfidf.transform(X_test_vect)\n",
    "\n",
    "# Predict test labels\n",
    "y_pred = clf.predict(X_test_new)"
   ]
  },
  {
   "cell_type": "markdown",
   "metadata": {},
   "source": [
    "### Step 4: Display results\n",
    "Display a confusion matrix and accuracy score based on the model's predictions."
   ]
  },
  {
   "cell_type": "code",
   "execution_count": 38,
   "metadata": {},
   "outputs": [],
   "source": [
    "from sklearn import metrics"
   ]
  },
  {
   "cell_type": "code",
   "execution_count": 39,
   "metadata": {},
   "outputs": [
    {
     "name": "stdout",
     "output_type": "stream",
     "text": [
      "Labels: ['Information' 'Information' 'Information' 'Information' 'Information'\n",
      " 'Information' 'Information' 'Information' 'Information' 'Information'\n",
      " 'Information' 'Information' 'Information' 'Information' 'Information'\n",
      " 'Information' 'Information' 'Information' 'Information' 'Information'\n",
      " 'Information' 'Information' 'Information' 'Action' 'Information'\n",
      " 'Information' 'Information' 'Information' 'Information' 'Information'\n",
      " 'Information' 'Information' 'Information' 'Information' 'Information'\n",
      " 'Information' 'Information' 'Information' 'Information' 'Information'\n",
      " 'Information' 'Information' 'Information' 'Information' 'Information'\n",
      " 'Information' 'Information' 'Information' 'Information' 'Information'\n",
      " 'Action' 'Information' 'Action' 'Information' 'Information' 'Information'\n",
      " 'Information' 'Information' 'Information' 'Information' 'Information'\n",
      " 'Information' 'Action' 'Information' 'Information' 'Information'\n",
      " 'Information' 'Information' 'Information' 'Information' 'Action'\n",
      " 'Information' 'Information' 'Information' 'Information' 'Information'\n",
      " 'Action' 'Information' 'Information' 'Information' 'Information'\n",
      " 'Information' 'Information' 'Information' 'Information' 'Information'\n",
      " 'Information' 'Information' 'Information' 'Information' 'Information'\n",
      " 'Information' 'Information' 'Information' 'Information' 'Information'\n",
      " 'Information' 'Information' 'Information' 'Information' 'Action'\n",
      " 'Information' 'Information' 'Information' 'Information' 'Information'\n",
      " 'Information' 'Information' 'Information' 'Information' 'Information'\n",
      " 'Information' 'Information' 'Information' 'Information' 'Information'\n",
      " 'Information' 'Action' 'Information' 'Information' 'Information'\n",
      " 'Information' 'Information' 'Information' 'Information' 'Information'\n",
      " 'Information' 'Information' 'Information' 'Information' 'Information'\n",
      " 'Information' 'Information' 'Information' 'Information' 'Information'\n",
      " 'Information' 'Information' 'Information' 'Information' 'Action'\n",
      " 'Information' 'Information' 'Information' 'Information' 'Information'\n",
      " 'Information' 'Information' 'Information' 'Information' 'Information'\n",
      " 'Information' 'Action' 'Information' 'Information' 'Information'\n",
      " 'Information' 'Information' 'Information' 'Information' 'Information'\n",
      " 'Information' 'Information' 'Information' 'Information' 'Information'\n",
      " 'Information' 'Information' 'Information' 'Information' 'Information'\n",
      " 'Information' 'Information' 'Information' 'Information' 'Information'\n",
      " 'Information' 'Information' 'Information' 'Information' 'Action'\n",
      " 'Information' 'Information' 'Information' 'Information' 'Information'\n",
      " 'Information' 'Information' 'Information' 'Information' 'Information'\n",
      " 'Information' 'Information' 'Information' 'Information' 'Information'\n",
      " 'Information' 'Information' 'Information' 'Information' 'Information'\n",
      " 'Information' 'Information' 'Information' 'Information' 'Information'\n",
      " 'Information' 'Information' 'Information' 'Information' 'Information'\n",
      " 'Information' 'Information' 'Information' 'Information' 'Information'\n",
      " 'Information' 'Information' 'Information' 'Information' 'Action'\n",
      " 'Information' 'Information' 'Information' 'Information' 'Information'\n",
      " 'Action' 'Information' 'Information' 'Information' 'Information'\n",
      " 'Information' 'Information' 'Action' 'Information' 'Information'\n",
      " 'Information' 'Information' 'Information' 'Information' 'Information'\n",
      " 'Action' 'Information' 'Information' 'Information' 'Information'\n",
      " 'Information' 'Information' 'Information' 'Information' 'Information'\n",
      " 'Information' 'Information' 'Information' 'Information' 'Information'\n",
      " 'Information' 'Information' 'Information' 'Information' 'Information'\n",
      " 'Information' 'Information' 'Information' 'Information' 'Information'\n",
      " 'Information' 'Action' 'Information' 'Information' 'Information'\n",
      " 'Information' 'Information' 'Information' 'Information' 'Information'\n",
      " 'Information' 'Information' 'Action' 'Action' 'Information' 'Information'\n",
      " 'Information' 'Information' 'Information' 'Information' 'Information'\n",
      " 'Information' 'Information' 'Information' 'Information' 'Information'\n",
      " 'Information' 'Information' 'Information' 'Action' 'Information'\n",
      " 'Information' 'Information' 'Information' 'Information' 'Information'\n",
      " 'Information' 'Information' 'Action' 'Information' 'Information'\n",
      " 'Information' 'Information' 'Information' 'Information' 'Information'\n",
      " 'Information' 'Information' 'Information' 'Information' 'Information'\n",
      " 'Information' 'Information' 'Information' 'Information' 'Information'\n",
      " 'Action' 'Information' 'Information' 'Information' 'Information'\n",
      " 'Information' 'Information' 'Information' 'Information' 'Information'\n",
      " 'Information' 'Information' 'Information' 'Information' 'Information'\n",
      " 'Information' 'Information' 'Information' 'Information' 'Information'\n",
      " 'Information' 'Information' 'Information' 'Information' 'Information'\n",
      " 'Information' 'Information' 'Information' 'Information' 'Information'\n",
      " 'Information' 'Action' 'Information' 'Information' 'Information'\n",
      " 'Information' 'Information' 'Information' 'Information' 'Information'\n",
      " 'Information' 'Information' 'Information' 'Information' 'Information'\n",
      " 'Information' 'Information' 'Information' 'Information' 'Information'\n",
      " 'Information' 'Information' 'Information' 'Information' 'Information'\n",
      " 'Information' 'Information' 'Information' 'Action' 'Information'\n",
      " 'Information' 'Information' 'Information' 'Information' 'Information'\n",
      " 'Information' 'Information' 'Information' 'Information' 'Information'\n",
      " 'Information' 'Information' 'Information' 'Information' 'Information'\n",
      " 'Information' 'Action' 'Information' 'Information' 'Information'\n",
      " 'Information' 'Information' 'Information' 'Information' 'Information'\n",
      " 'Information' 'Information' 'Information' 'Information' 'Information'\n",
      " 'Information' 'Information' 'Information' 'Information' 'Information'\n",
      " 'Information' 'Information' 'Action' 'Information' 'Information' 'Action'\n",
      " 'Information' 'Information' 'Information' 'Information' 'Information'\n",
      " 'Information' 'Information' 'Information' 'Information' 'Information'\n",
      " 'Information' 'Information' 'Information' 'Information' 'Information'\n",
      " 'Information' 'Information' 'Information' 'Information' 'Information'\n",
      " 'Information' 'Information' 'Information' 'Information' 'Information'\n",
      " 'Information' 'Information' 'Information' 'Information' 'Information'\n",
      " 'Information' 'Action' 'Information' 'Action' 'Information' 'Information'\n",
      " 'Information' 'Information' 'Information' 'Information' 'Information'\n",
      " 'Information' 'Information' 'Information' 'Information' 'Information'\n",
      " 'Information' 'Information' 'Information' 'Information' 'Information'\n",
      " 'Information' 'Information' 'Information' 'Information' 'Information'\n",
      " 'Information' 'Information' 'Information' 'Information' 'Information'\n",
      " 'Information' 'Information' 'Information' 'Information' 'Information'\n",
      " 'Information' 'Information' 'Information' 'Information' 'Information'\n",
      " 'Information' 'Information' 'Information' 'Information' 'Information'\n",
      " 'Information' 'Information' 'Information' 'Information' 'Information'\n",
      " 'Information' 'Information' 'Information' 'Information' 'Information'\n",
      " 'Information' 'Action' 'Information' 'Information' 'Information' 'Action'\n",
      " 'Information' 'Information' 'Information' 'Information' 'Information'\n",
      " 'Information' 'Information' 'Information' 'Information' 'Information'\n",
      " 'Information' 'Information' 'Information' 'Information' 'Information'\n",
      " 'Information' 'Information' 'Information' 'Information' 'Information'\n",
      " 'Information' 'Information' 'Information' 'Information' 'Information'\n",
      " 'Information' 'Information' 'Information' 'Information' 'Information'\n",
      " 'Information' 'Information' 'Information' 'Information' 'Information'\n",
      " 'Information' 'Information' 'Information' 'Information' 'Information'\n",
      " 'Information' 'Information' 'Information' 'Information' 'Information'\n",
      " 'Information' 'Information' 'Information' 'Information' 'Information'\n",
      " 'Information' 'Information' 'Information' 'Information' 'Information'\n",
      " 'Information' 'Information' 'Information' 'Information' 'Information'\n",
      " 'Information' 'Information' 'Information' 'Information' 'Information'\n",
      " 'Information' 'Information' 'Information' 'Information' 'Information'\n",
      " 'Information' 'Information' 'Information' 'Information' 'Information'\n",
      " 'Information' 'Information' 'Action' 'Information' 'Information'\n",
      " 'Information' 'Information' 'Information' 'Information' 'Information'\n",
      " 'Information']\n",
      "Confusion Matrix:\n",
      " [[ 29   1   1]\n",
      " [  0   0   0]\n",
      " [ 79  26 465]]\n",
      "Accuracy: 0.8219633943427621\n"
     ]
    }
   ],
   "source": [
    "labels = y_pred\n",
    "confusion_mat = metrics.confusion_matrix(y_pred, y_test) \n",
    "accuracy = metrics.accuracy_score(y_pred, y_test) \n",
    "\n",
    "#print(\"Labels:\", labels)\n",
    "print(\"Confusion Matrix:\\n\", confusion_mat)\n",
    "print(\"Accuracy:\", accuracy)"
   ]
  },
  {
   "cell_type": "markdown",
   "metadata": {},
   "source": [
    "# Final Step: Refactor\n",
    "Organize these steps into the following functions."
   ]
  },
  {
   "cell_type": "code",
   "execution_count": 46,
   "metadata": {},
   "outputs": [],
   "source": [
    "from sklearn.ensemble import RandomForestClassifier"
   ]
  },
  {
   "cell_type": "code",
   "execution_count": 49,
   "metadata": {},
   "outputs": [],
   "source": [
    "def display_results():\n",
    "    # insert step 4 here\n",
    "    labels = y_pred\n",
    "    confusion_mat = metrics.confusion_matrix(y_pred, y_test) \n",
    "    accuracy = metrics.accuracy_score(y_pred, y_test) \n",
    "\n",
    "    print(\"Confusion Matrix:\\n\", confusion_mat)\n",
    "    print(\"Accuracy:\", accuracy)\n",
    "def main():\n",
    "    # insert steps 1 through 3 here\n",
    "    X, y = load_data()\n",
    "    X_train, X_test, y_train, y_test = train_test_split(X, y)\n",
    "    \n",
    "        # Instantiate transformers and classifier\n",
    "    vect = CountVectorizer(tokenizer=tokenize)\n",
    "    tfidf = TfidfTransformer()\n",
    "    clf = RandomForestClassifier() #MultinomialNB()\n",
    "\n",
    "    # Fit and/or transform each to the data\n",
    "\n",
    "    X_train_vect = vect.fit_transform(X_train)\n",
    "    X_train_tfidf = tfidf.fit_transform(X_train_vect)\n",
    "\n",
    "    clf.fit(X_train_tfidf , y_train)\n",
    "    X_test_vect = vect.transform(X_test)\n",
    "    X_test_new = tfidf.transform(X_test_vect)\n",
    "\n",
    "    # Predict test labels\n",
    "    y_pred = clf.predict(X_test_new)\n",
    "    display_results()"
   ]
  },
  {
   "cell_type": "code",
   "execution_count": 50,
   "metadata": {},
   "outputs": [
    {
     "name": "stdout",
     "output_type": "stream",
     "text": [
      "Confusion Matrix:\n",
      " [[ 29   1   1]\n",
      " [  0   0   0]\n",
      " [ 79  26 465]]\n",
      "Accuracy: 0.8219633943427621\n"
     ]
    }
   ],
   "source": [
    "# run program\n",
    "main()"
   ]
  },
  {
   "cell_type": "code",
   "execution_count": 48,
   "metadata": {},
   "outputs": [
    {
     "name": "stdout",
     "output_type": "stream",
     "text": [
      "Confusion Matrix:\n",
      " [[ 29   1   1]\n",
      " [  0   0   0]\n",
      " [ 79  26 465]]\n",
      "Accuracy: 0.8219633943427621\n"
     ]
    }
   ],
   "source": [
    "main()"
   ]
  },
  {
   "cell_type": "code",
   "execution_count": null,
   "metadata": {},
   "outputs": [],
   "source": []
  }
 ],
 "metadata": {
  "kernelspec": {
   "display_name": "Python 3",
   "language": "python",
   "name": "python3"
  },
  "language_info": {
   "codemirror_mode": {
    "name": "ipython",
    "version": 3
   },
   "file_extension": ".py",
   "mimetype": "text/x-python",
   "name": "python",
   "nbconvert_exporter": "python",
   "pygments_lexer": "ipython3",
   "version": "3.7.6"
  }
 },
 "nbformat": 4,
 "nbformat_minor": 2
}
